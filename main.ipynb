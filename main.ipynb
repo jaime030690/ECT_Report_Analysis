{
 "nbformat": 4,
 "nbformat_minor": 2,
 "metadata": {
  "language_info": {
   "name": "python",
   "codemirror_mode": {
    "name": "ipython",
    "version": 3
   },
   "version": "3.7.4-final"
  },
  "orig_nbformat": 2,
  "file_extension": ".py",
  "mimetype": "text/x-python",
  "name": "python",
  "npconvert_exporter": "python",
  "pygments_lexer": "ipython3",
  "version": 3,
  "kernelspec": {
   "name": "python37464bitbasecondafa908e4fa6054b7f9f2c03b876e37b91",
   "display_name": "Python 3.7.4 64-bit ('base': conda)"
  }
 },
 "cells": [
  {
   "cell_type": "code",
   "execution_count": 67,
   "metadata": {},
   "outputs": [],
   "source": [
    "##Dependencies\n",
    "import pandas as pd\n",
    "import matplotlib.pyplot as plt\n",
    "import numpy as np"
   ]
  },
  {
   "cell_type": "code",
   "execution_count": 68,
   "metadata": {},
   "outputs": [],
   "source": [
    "#Read CSV file\n",
    "df = pd.read_csv('Resources/ECT_Data.csv', low_memory=False)\n",
    "df[['SR Create TS', 'SR Close TS', 'Cust Contact TS']] = df[['SR Create TS', 'SR Close TS', 'Cust Contact TS']].astype('datetime64[ns]')"
   ]
  },
  {
   "cell_type": "code",
   "execution_count": 69,
   "metadata": {},
   "outputs": [],
   "source": [
    "#Create data frames split by years\n",
    "combined_df = df\n",
    "ytd_df = df[df['SR Create TS'] >= '2020-01-01']\n",
    "prevy_df = df[df['SR Create TS'] < '2020-01-01']"
   ]
  },
  {
   "cell_type": "code",
   "execution_count": 70,
   "metadata": {},
   "outputs": [
    {
     "name": "stderr",
     "output_type": "stream",
     "text": "C:\\Users\\jechevarria\\AppData\\Local\\Continuum\\anaconda3\\lib\\site-packages\\ipykernel_launcher.py:7: SettingWithCopyWarning: \nA value is trying to be set on a copy of a slice from a DataFrame.\nTry using .loc[row_indexer,col_indexer] = value instead\n\nSee the caveats in the documentation: http://pandas.pydata.org/pandas-docs/stable/user_guide/indexing.html#returning-a-view-versus-a-copy\n  import sys\nC:\\Users\\jechevarria\\AppData\\Local\\Continuum\\anaconda3\\lib\\site-packages\\ipykernel_launcher.py:8: SettingWithCopyWarning: \nA value is trying to be set on a copy of a slice from a DataFrame.\nTry using .loc[row_indexer,col_indexer] = value instead\n\nSee the caveats in the documentation: http://pandas.pydata.org/pandas-docs/stable/user_guide/indexing.html#returning-a-view-versus-a-copy\n  \nC:\\Users\\jechevarria\\AppData\\Local\\Continuum\\anaconda3\\lib\\site-packages\\ipykernel_launcher.py:9: SettingWithCopyWarning: \nA value is trying to be set on a copy of a slice from a DataFrame.\nTry using .loc[row_indexer,col_indexer] = value instead\n\nSee the caveats in the documentation: http://pandas.pydata.org/pandas-docs/stable/user_guide/indexing.html#returning-a-view-versus-a-copy\n  if __name__ == '__main__':\n"
    }
   ],
   "source": [
    "#Create new data frames with columns we're interested in\n",
    "combined_datetime_df = combined_df[['OCPM #', 'Make/Miss', 'SR Create TS', 'SR Close TS', 'Cust Contact TS']]\n",
    "ytd_datetime_df = ytd_df[['OCPM #', 'Make/Miss', 'SR Create TS', 'SR Close TS', 'Cust Contact TS']]\n",
    "prevy_datetime_df = prevy_df[['OCPM #', 'Make/Miss', 'SR Create TS', 'SR Close TS', 'Cust Contact TS']]\n",
    "\n",
    "#Create new columns with difference on data frames\n",
    "combined_datetime_df['Close and Create Diff'] = (combined_datetime_df['SR Close TS'] - combined_datetime_df['SR Create TS'])\n",
    "ytd_datetime_df['Close and Create Diff'] = (ytd_datetime_df['SR Close TS'] - ytd_datetime_df['SR Create TS'])\n",
    "prevy_datetime_df['Close and Create Diff'] = (prevy_datetime_df['SR Close TS'] - prevy_datetime_df['SR Create TS'])\n"
   ]
  },
  {
   "cell_type": "code",
   "execution_count": null,
   "metadata": {},
   "outputs": [],
   "source": [
    "#Create groups\n",
    "combined_make_miss_group = combined_datetime_df.groupby('Make/Miss')\n",
    "ytd_make_miss_group = ytd_datetime_df.groupby('Make/Miss')\n",
    "prevy_make_miss_group = prevy_datetime_df.groupby('Make/Miss')"
   ]
  },
  {
   "cell_type": "markdown",
   "execution_count": null,
   "metadata": {},
   "outputs": [],
   "source": [
    "## Perecentages by year"
   ]
  },
  {
   "cell_type": "code",
   "execution_count": 71,
   "metadata": {},
   "outputs": [
    {
     "data": {
      "text/html": "<div>\n<style scoped>\n    .dataframe tbody tr th:only-of-type {\n        vertical-align: middle;\n    }\n\n    .dataframe tbody tr th {\n        vertical-align: top;\n    }\n\n    .dataframe thead th {\n        text-align: right;\n    }\n</style>\n<table border=\"1\" class=\"dataframe\">\n  <thead>\n    <tr style=\"text-align: right;\">\n      <th></th>\n      <th>2020</th>\n      <th>2019</th>\n      <th>Combined</th>\n    </tr>\n    <tr>\n      <th>Make/Miss</th>\n      <th></th>\n      <th></th>\n      <th></th>\n    </tr>\n  </thead>\n  <tbody>\n    <tr>\n      <td>Make</td>\n      <td>86.14%</td>\n      <td>24.64%</td>\n      <td>36.67%</td>\n    </tr>\n    <tr>\n      <td>Miss</td>\n      <td>13.86%</td>\n      <td>75.36%</td>\n      <td>63.33%</td>\n    </tr>\n  </tbody>\n</table>\n</div>",
      "text/plain": "             2020    2019 Combined\nMake/Miss                         \nMake       86.14%  24.64%   36.67%\nMiss       13.86%  75.36%   63.33%"
     },
     "execution_count": 71,
     "metadata": {},
     "output_type": "execute_result"
    }
   ],
   "source": [
    "#New data frame for summary of Make/Miss percentages\n",
    "percent_make_miss_df = pd.DataFrame({    \n",
    "    '2020': ytd_make_miss_group['OCPM #'].count() * 100 / ytd_make_miss_group['OCPM #'].count().sum(),\n",
    "    '2019': prevy_make_miss_group['OCPM #'].count() * 100 / prevy_make_miss_group['OCPM #'].count().sum(),\n",
    "    'Combined': combined_make_miss_group['OCPM #'].count() * 100 / combined_make_miss_group['OCPM #'].count().sum(),\n",
    "})\n",
    "\n",
    "#Format columns with percentages\n",
    "percent_make_miss_df['2020'] = percent_make_miss_df['2020'].map('{:.2f}%'.format)\n",
    "percent_make_miss_df['2019'] = percent_make_miss_df['2019'].map('{:.2f}%'.format)\n",
    "percent_make_miss_df['Combined'] = percent_make_miss_df['Combined'].map('{:.2f}%'.format)\n",
    "\n",
    "#Display data frame\n",
    "percent_make_miss_df"
   ]
  },
  {
   "cell_type": "markdown",
   "execution_count": null,
   "metadata": {},
   "outputs": [],
   "source": [
    "## Counts by year"
   ]
  },
  {
   "cell_type": "code",
   "execution_count": 72,
   "metadata": {},
   "outputs": [
    {
     "data": {
      "text/html": "<div>\n<style scoped>\n    .dataframe tbody tr th:only-of-type {\n        vertical-align: middle;\n    }\n\n    .dataframe tbody tr th {\n        vertical-align: top;\n    }\n\n    .dataframe thead th {\n        text-align: right;\n    }\n</style>\n<table border=\"1\" class=\"dataframe\">\n  <thead>\n    <tr style=\"text-align: right;\">\n      <th></th>\n      <th>2020 Count</th>\n      <th>2019 Count</th>\n      <th>Combined Count</th>\n    </tr>\n    <tr>\n      <th>Make/Miss</th>\n      <th></th>\n      <th></th>\n      <th></th>\n    </tr>\n  </thead>\n  <tbody>\n    <tr>\n      <td>Make</td>\n      <td>3971</td>\n      <td>4670</td>\n      <td>8641</td>\n    </tr>\n    <tr>\n      <td>Miss</td>\n      <td>639</td>\n      <td>14283</td>\n      <td>14922</td>\n    </tr>\n  </tbody>\n</table>\n</div>",
      "text/plain": "           2020 Count  2019 Count  Combined Count\nMake/Miss                                        \nMake             3971        4670            8641\nMiss              639       14283           14922"
     },
     "execution_count": 72,
     "metadata": {},
     "output_type": "execute_result"
    }
   ],
   "source": [
    "#New data frame for counts\n",
    "count_make_miss_df = pd.DataFrame({\n",
    "    '2020 Count': ytd_make_miss_group['Make/Miss'].count(),    \n",
    "    '2019 Count': prevy_make_miss_group['Make/Miss'].count(),\n",
    "    'Combined Count': combined_make_miss_group['Make/Miss'].count()\n",
    "})\n",
    "\n",
    "#Display data frame\n",
    "count_make_miss_df"
   ]
  },
  {
   "cell_type": "markdown",
   "execution_count": null,
   "metadata": {},
   "outputs": [],
   "source": [
    "## Stats by year"
   ]
  },
  {
   "cell_type": "code",
   "execution_count": 73,
   "metadata": {},
   "outputs": [
    {
     "data": {
      "text/html": "<div>\n<style scoped>\n    .dataframe tbody tr th:only-of-type {\n        vertical-align: middle;\n    }\n\n    .dataframe tbody tr th {\n        vertical-align: top;\n    }\n\n    .dataframe thead th {\n        text-align: right;\n    }\n</style>\n<table border=\"1\" class=\"dataframe\">\n  <thead>\n    <tr style=\"text-align: right;\">\n      <th></th>\n      <th>2020</th>\n      <th>2019</th>\n      <th>Combined</th>\n    </tr>\n  </thead>\n  <tbody>\n    <tr>\n      <td>count</td>\n      <td>4610</td>\n      <td>18953</td>\n      <td>23563</td>\n    </tr>\n    <tr>\n      <td>mean</td>\n      <td>3 days 09:20:36.442516</td>\n      <td>14 days 11:20:52.459241</td>\n      <td>12 days 07:18:18.988244</td>\n    </tr>\n    <tr>\n      <td>std</td>\n      <td>2 days 07:37:34.000030</td>\n      <td>10 days 21:48:51.613503</td>\n      <td>10 days 18:36:15.472835</td>\n    </tr>\n    <tr>\n      <td>min</td>\n      <td>0 days 00:01:00</td>\n      <td>0 days 00:02:00</td>\n      <td>0 days 00:01:00</td>\n    </tr>\n    <tr>\n      <td>25%</td>\n      <td>1 days 07:14:15</td>\n      <td>5 days 21:13:00</td>\n      <td>4 days 02:34:00</td>\n    </tr>\n    <tr>\n      <td>50%</td>\n      <td>3 days 02:03:30</td>\n      <td>13 days 04:34:00</td>\n      <td>8 days 10:18:00</td>\n    </tr>\n    <tr>\n      <td>75%</td>\n      <td>4 days 09:49:00</td>\n      <td>20 days 18:09:00</td>\n      <td>18 days 02:44:00</td>\n    </tr>\n    <tr>\n      <td>max</td>\n      <td>12 days 07:19:00</td>\n      <td>166 days 23:18:00</td>\n      <td>166 days 23:18:00</td>\n    </tr>\n  </tbody>\n</table>\n</div>",
      "text/plain": "                         2020                     2019  \\\ncount                    4610                    18953   \nmean   3 days 09:20:36.442516  14 days 11:20:52.459241   \nstd    2 days 07:37:34.000030  10 days 21:48:51.613503   \nmin           0 days 00:01:00          0 days 00:02:00   \n25%           1 days 07:14:15          5 days 21:13:00   \n50%           3 days 02:03:30         13 days 04:34:00   \n75%           4 days 09:49:00         20 days 18:09:00   \nmax          12 days 07:19:00        166 days 23:18:00   \n\n                      Combined  \ncount                    23563  \nmean   12 days 07:18:18.988244  \nstd    10 days 18:36:15.472835  \nmin            0 days 00:01:00  \n25%            4 days 02:34:00  \n50%            8 days 10:18:00  \n75%           18 days 02:44:00  \nmax          166 days 23:18:00  "
     },
     "execution_count": 73,
     "metadata": {},
     "output_type": "execute_result"
    }
   ],
   "source": [
    "#Descriptive stats data frame\n",
    "\n",
    "describe_df = pd.DataFrame({\n",
    "    '2020': ytd_datetime_df['Close and Create Diff'].describe(),\n",
    "    '2019': prevy_datetime_df['Close and Create Diff'].describe(),\n",
    "    'Combined': combined_datetime_df['Close and Create Diff'].describe()\n",
    "})\n",
    "\n",
    "describe_df"
   ]
  },
  {
   "cell_type": "code",
   "execution_count": null,
   "metadata": {},
   "outputs": [],
   "source": []
  }
 ]
}