{
 "nbformat": 4,
 "nbformat_minor": 2,
 "metadata": {
  "language_info": {
   "name": "python",
   "codemirror_mode": {
    "name": "ipython",
    "version": 3
   },
   "version": "3.7.4-final"
  },
  "orig_nbformat": 2,
  "file_extension": ".py",
  "mimetype": "text/x-python",
  "name": "python",
  "npconvert_exporter": "python",
  "pygments_lexer": "ipython3",
  "version": 3,
  "kernelspec": {
   "name": "python37464bitbasecondafa908e4fa6054b7f9f2c03b876e37b91",
   "display_name": "Python 3.7.4 64-bit ('base': conda)"
  }
 },
 "cells": [
  {
   "cell_type": "markdown",
   "execution_count": null,
   "metadata": {},
   "outputs": [],
   "source": [
    "# ECT Report Analysis\n",
    "## Description of Report\n",
    "Quoting the description on the report home page:\n",
    ">\"Average time in days it takes for a Customers issue to be resolved measured from the day the Customer contacts the Call Center and a Service Order is opened unitl the case status is moved to closed. Calculation includes FOD, CRU, On-Site and Depot Service Orders.\"\n",
    "\n",
    "The SLA goal is 5.60 days.\n",
    "\n",
    "## Method for KPI Calculation\n",
    "The report performs a simple calculation to determine whether or not a case met the SLA. If the case is open for less than 5.60 days then it is marked as a `Make`; otherwise it will be a `Miss`. This calculation is performed by subtracting the values in columns `SR Close TS` and `SR Create TS`.\n",
    "\n",
    "The KPI for this metric is calculated by the mean value of the subtraction of `SR Close TS` and `SR Create TS` for each row in the data set.\n",
    "\n",
    "## Limitations of the Report\n",
    "* By default this report measures *all* available data regardless of case age. Therefore the KPI reflects *all* cases since the reporting tool started capturing data. This is the number shown in the dashboard.\n",
    "* The column `SR Close TS` has the value of the case's final closure date. This value is not reflective of the performance of the call center as this event is triggered when all work on the case is completed (CX status). A few examples for possible delays outside of the call center's control:\n",
    "    * Limited part availability.\n",
    "    * Customer delaying service (additional information needed, not available).\n",
    "    * Technician not available to service machine.\n",
    "    * Machine lost in transit.\n",
    "    * Carrier unable to deliver a part.\n",
    "* Changing the date range on the report filters the data by the values in the `SR Close TS` column. For example, we may pick all cases YTD for our values, and the report will pull cases which were opened prior to the current year if the `SR Close TS` value is on the current year.\n",
    "* There is no true indicator of call center performance in the data columns. The best indicator would be the time when the first action plan (AP) is placed on a case. This metric is not available as of writing this report.\n",
    "## Conclusion\n",
    "The ECT Report does not serve as an objective measure of the performance of the call center due to its inherent limitations. The case closure time is the determinant factor into whether or not the KPIs are met. This number is not reflective of the actions performed by the call center. A better measure would be the first AP time on the case. Delays in the field can cause cases to remain open and for the closure time to be delayed indefinitely."
   ]
  },
  {
   "cell_type": "code",
   "execution_count": 67,
   "metadata": {},
   "outputs": [],
   "source": [
    "import pandas as pd\n",
    "import matplotlib.pyplot as plt\n",
    "import numpy as np"
   ]
  },
  {
   "cell_type": "code",
   "execution_count": 68,
   "metadata": {},
   "outputs": [],
   "source": [
    "#Read CSV file\n",
    "df = pd.read_csv('Resources/ECT_Data.csv', low_memory=False)\n",
    "df[['SR Create TS', 'SR Close TS', 'Cust Contact TS']] = df[['SR Create TS', 'SR Close TS', 'Cust Contact TS']].astype('datetime64[ns]')"
   ]
  },
  {
   "cell_type": "code",
   "execution_count": 69,
   "metadata": {},
   "outputs": [],
   "source": [
    "#Create data frames split by years\n",
    "combined_df = df\n",
    "ytd_df = df[df['SR Create TS'] >= '2020-01-01']\n",
    "prevy_df = df[df['SR Create TS'] < '2020-01-01']"
   ]
  },
  {
   "cell_type": "code",
   "execution_count": 70,
   "metadata": {},
   "outputs": [
    {
     "name": "stderr",
     "output_type": "stream",
     "text": "C:\\Users\\jechevarria\\AppData\\Local\\Continuum\\anaconda3\\lib\\site-packages\\ipykernel_launcher.py:7: SettingWithCopyWarning: \nA value is trying to be set on a copy of a slice from a DataFrame.\nTry using .loc[row_indexer,col_indexer] = value instead\n\nSee the caveats in the documentation: http://pandas.pydata.org/pandas-docs/stable/user_guide/indexing.html#returning-a-view-versus-a-copy\n  import sys\nC:\\Users\\jechevarria\\AppData\\Local\\Continuum\\anaconda3\\lib\\site-packages\\ipykernel_launcher.py:8: SettingWithCopyWarning: \nA value is trying to be set on a copy of a slice from a DataFrame.\nTry using .loc[row_indexer,col_indexer] = value instead\n\nSee the caveats in the documentation: http://pandas.pydata.org/pandas-docs/stable/user_guide/indexing.html#returning-a-view-versus-a-copy\n  \nC:\\Users\\jechevarria\\AppData\\Local\\Continuum\\anaconda3\\lib\\site-packages\\ipykernel_launcher.py:9: SettingWithCopyWarning: \nA value is trying to be set on a copy of a slice from a DataFrame.\nTry using .loc[row_indexer,col_indexer] = value instead\n\nSee the caveats in the documentation: http://pandas.pydata.org/pandas-docs/stable/user_guide/indexing.html#returning-a-view-versus-a-copy\n  if __name__ == '__main__':\n"
    }
   ],
   "source": [
    "#Create new data frames with columns we're interested in\n",
    "combined_datetime_df = combined_df[['OCPM #', 'Make/Miss', 'SR Create TS', 'SR Close TS', 'Cust Contact TS']]\n",
    "ytd_datetime_df = ytd_df[['OCPM #', 'Make/Miss', 'SR Create TS', 'SR Close TS', 'Cust Contact TS']]\n",
    "prevy_datetime_df = prevy_df[['OCPM #', 'Make/Miss', 'SR Create TS', 'SR Close TS', 'Cust Contact TS']]\n",
    "\n",
    "#Create new columns with difference on data frames\n",
    "combined_datetime_df['Close and Create Diff'] = (combined_datetime_df['SR Close TS'] - combined_datetime_df['SR Create TS'])\n",
    "ytd_datetime_df['Close and Create Diff'] = (ytd_datetime_df['SR Close TS'] - ytd_datetime_df['SR Create TS'])\n",
    "prevy_datetime_df['Close and Create Diff'] = (prevy_datetime_df['SR Close TS'] - prevy_datetime_df['SR Create TS'])\n"
   ]
  },
  {
   "cell_type": "code",
   "execution_count": 71,
   "metadata": {},
   "outputs": [
    {
     "data": {
      "text/html": "<div>\n<style scoped>\n    .dataframe tbody tr th:only-of-type {\n        vertical-align: middle;\n    }\n\n    .dataframe tbody tr th {\n        vertical-align: top;\n    }\n\n    .dataframe thead th {\n        text-align: right;\n    }\n</style>\n<table border=\"1\" class=\"dataframe\">\n  <thead>\n    <tr style=\"text-align: right;\">\n      <th></th>\n      <th>2020</th>\n      <th>2019</th>\n      <th>Combined</th>\n    </tr>\n    <tr>\n      <th>Make/Miss</th>\n      <th></th>\n      <th></th>\n      <th></th>\n    </tr>\n  </thead>\n  <tbody>\n    <tr>\n      <td>Make</td>\n      <td>86.14%</td>\n      <td>24.64%</td>\n      <td>36.67%</td>\n    </tr>\n    <tr>\n      <td>Miss</td>\n      <td>13.86%</td>\n      <td>75.36%</td>\n      <td>63.33%</td>\n    </tr>\n  </tbody>\n</table>\n</div>",
      "text/plain": "             2020    2019 Combined\nMake/Miss                         \nMake       86.14%  24.64%   36.67%\nMiss       13.86%  75.36%   63.33%"
     },
     "execution_count": 71,
     "metadata": {},
     "output_type": "execute_result"
    }
   ],
   "source": [
    "#Create groups\n",
    "combined_make_miss_group = combined_datetime_df.groupby('Make/Miss')\n",
    "ytd_make_miss_group = ytd_datetime_df.groupby('Make/Miss')\n",
    "prevy_make_miss_group = prevy_datetime_df.groupby('Make/Miss')\n",
    "\n",
    "#New data frame for summary of Make/Miss percentages\n",
    "percent_make_miss_df = pd.DataFrame({    \n",
    "    '2020': ytd_make_miss_group['OCPM #'].count() * 100 / ytd_make_miss_group['OCPM #'].count().sum(),\n",
    "    '2019': prevy_make_miss_group['OCPM #'].count() * 100 / prevy_make_miss_group['OCPM #'].count().sum(),\n",
    "    'Combined': combined_make_miss_group['OCPM #'].count() * 100 / combined_make_miss_group['OCPM #'].count().sum(),\n",
    "})\n",
    "\n",
    "#Format columns with percentages\n",
    "percent_make_miss_df['2020'] = percent_make_miss_df['2020'].map('{:.2f}%'.format)\n",
    "percent_make_miss_df['2019'] = percent_make_miss_df['2019'].map('{:.2f}%'.format)\n",
    "percent_make_miss_df['Combined'] = percent_make_miss_df['Combined'].map('{:.2f}%'.format)\n",
    "\n",
    "#Display data frame\n",
    "percent_make_miss_df"
   ]
  },
  {
   "cell_type": "code",
   "execution_count": 72,
   "metadata": {},
   "outputs": [
    {
     "data": {
      "text/html": "<div>\n<style scoped>\n    .dataframe tbody tr th:only-of-type {\n        vertical-align: middle;\n    }\n\n    .dataframe tbody tr th {\n        vertical-align: top;\n    }\n\n    .dataframe thead th {\n        text-align: right;\n    }\n</style>\n<table border=\"1\" class=\"dataframe\">\n  <thead>\n    <tr style=\"text-align: right;\">\n      <th></th>\n      <th>2020 Count</th>\n      <th>2019 Count</th>\n      <th>Combined Count</th>\n    </tr>\n    <tr>\n      <th>Make/Miss</th>\n      <th></th>\n      <th></th>\n      <th></th>\n    </tr>\n  </thead>\n  <tbody>\n    <tr>\n      <td>Make</td>\n      <td>3971</td>\n      <td>4670</td>\n      <td>8641</td>\n    </tr>\n    <tr>\n      <td>Miss</td>\n      <td>639</td>\n      <td>14283</td>\n      <td>14922</td>\n    </tr>\n  </tbody>\n</table>\n</div>",
      "text/plain": "           2020 Count  2019 Count  Combined Count\nMake/Miss                                        \nMake             3971        4670            8641\nMiss              639       14283           14922"
     },
     "execution_count": 72,
     "metadata": {},
     "output_type": "execute_result"
    }
   ],
   "source": [
    "#New data frame for counts\n",
    "count_make_miss_df = pd.DataFrame({\n",
    "    '2020 Count': ytd_make_miss_group['Make/Miss'].count(),    \n",
    "    '2019 Count': prevy_make_miss_group['Make/Miss'].count(),\n",
    "    'Combined Count': combined_make_miss_group['Make/Miss'].count()\n",
    "})\n",
    "\n",
    "#Display data frame\n",
    "count_make_miss_df"
   ]
  },
  {
   "cell_type": "code",
   "execution_count": 73,
   "metadata": {},
   "outputs": [
    {
     "data": {
      "text/html": "<div>\n<style scoped>\n    .dataframe tbody tr th:only-of-type {\n        vertical-align: middle;\n    }\n\n    .dataframe tbody tr th {\n        vertical-align: top;\n    }\n\n    .dataframe thead th {\n        text-align: right;\n    }\n</style>\n<table border=\"1\" class=\"dataframe\">\n  <thead>\n    <tr style=\"text-align: right;\">\n      <th></th>\n      <th>2020</th>\n      <th>2019</th>\n      <th>Combined</th>\n    </tr>\n  </thead>\n  <tbody>\n    <tr>\n      <td>count</td>\n      <td>4610</td>\n      <td>18953</td>\n      <td>23563</td>\n    </tr>\n    <tr>\n      <td>mean</td>\n      <td>3 days 09:20:36.442516</td>\n      <td>14 days 11:20:52.459241</td>\n      <td>12 days 07:18:18.988244</td>\n    </tr>\n    <tr>\n      <td>std</td>\n      <td>2 days 07:37:34.000030</td>\n      <td>10 days 21:48:51.613503</td>\n      <td>10 days 18:36:15.472835</td>\n    </tr>\n    <tr>\n      <td>min</td>\n      <td>0 days 00:01:00</td>\n      <td>0 days 00:02:00</td>\n      <td>0 days 00:01:00</td>\n    </tr>\n    <tr>\n      <td>25%</td>\n      <td>1 days 07:14:15</td>\n      <td>5 days 21:13:00</td>\n      <td>4 days 02:34:00</td>\n    </tr>\n    <tr>\n      <td>50%</td>\n      <td>3 days 02:03:30</td>\n      <td>13 days 04:34:00</td>\n      <td>8 days 10:18:00</td>\n    </tr>\n    <tr>\n      <td>75%</td>\n      <td>4 days 09:49:00</td>\n      <td>20 days 18:09:00</td>\n      <td>18 days 02:44:00</td>\n    </tr>\n    <tr>\n      <td>max</td>\n      <td>12 days 07:19:00</td>\n      <td>166 days 23:18:00</td>\n      <td>166 days 23:18:00</td>\n    </tr>\n  </tbody>\n</table>\n</div>",
      "text/plain": "                         2020                     2019  \\\ncount                    4610                    18953   \nmean   3 days 09:20:36.442516  14 days 11:20:52.459241   \nstd    2 days 07:37:34.000030  10 days 21:48:51.613503   \nmin           0 days 00:01:00          0 days 00:02:00   \n25%           1 days 07:14:15          5 days 21:13:00   \n50%           3 days 02:03:30         13 days 04:34:00   \n75%           4 days 09:49:00         20 days 18:09:00   \nmax          12 days 07:19:00        166 days 23:18:00   \n\n                      Combined  \ncount                    23563  \nmean   12 days 07:18:18.988244  \nstd    10 days 18:36:15.472835  \nmin            0 days 00:01:00  \n25%            4 days 02:34:00  \n50%            8 days 10:18:00  \n75%           18 days 02:44:00  \nmax          166 days 23:18:00  "
     },
     "execution_count": 73,
     "metadata": {},
     "output_type": "execute_result"
    }
   ],
   "source": [
    "#Descriptive stats data frame\n",
    "\n",
    "describe_df = pd.DataFrame({\n",
    "    '2020': ytd_datetime_df['Close and Create Diff'].describe(),\n",
    "    '2019': prevy_datetime_df['Close and Create Diff'].describe(),\n",
    "    'Combined': combined_datetime_df['Close and Create Diff'].describe()\n",
    "})\n",
    "\n",
    "describe_df"
   ]
  },
  {
   "cell_type": "code",
   "execution_count": null,
   "metadata": {},
   "outputs": [],
   "source": []
  }
 ]
}