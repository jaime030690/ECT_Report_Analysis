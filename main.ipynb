{
 "nbformat": 4,
 "nbformat_minor": 2,
 "metadata": {
  "language_info": {
   "name": "python",
   "codemirror_mode": {
    "name": "ipython",
    "version": 3
   },
   "version": "3.7.4-final"
  },
  "orig_nbformat": 2,
  "file_extension": ".py",
  "mimetype": "text/x-python",
  "name": "python",
  "npconvert_exporter": "python",
  "pygments_lexer": "ipython3",
  "version": 3,
  "kernelspec": {
   "name": "python37464bitbasecondaeb15dd16a5f74df4a7bc85322ce0ad17",
   "display_name": "Python 3.7.4 64-bit ('base': conda)"
  }
 },
 "cells": [
  {
   "cell_type": "code",
   "execution_count": 2,
   "metadata": {},
   "outputs": [],
   "source": [
    "##Dependencies\n",
    "import pandas as pd\n",
    "import matplotlib.pyplot as plt\n",
    "import numpy as np"
   ]
  },
  {
   "cell_type": "code",
   "execution_count": 14,
   "metadata": {},
   "outputs": [
    {
     "data": {
      "text/html": "<div>\n<style scoped>\n    .dataframe tbody tr th:only-of-type {\n        vertical-align: middle;\n    }\n\n    .dataframe tbody tr th {\n        vertical-align: top;\n    }\n\n    .dataframe thead th {\n        text-align: right;\n    }\n</style>\n<table border=\"1\" class=\"dataframe\">\n  <thead>\n    <tr style=\"text-align: right;\">\n      <th></th>\n      <th>OCPM #</th>\n      <th>Geo</th>\n      <th>Region</th>\n      <th>Country</th>\n      <th>Country ISO Code</th>\n      <th>Make/Miss</th>\n      <th>CROSS #</th>\n      <th>RCMS #</th>\n      <th>RETAIN #</th>\n      <th>Salesforce #</th>\n      <th>...</th>\n      <th>F5</th>\n      <th>F2B</th>\n      <th>F7</th>\n      <th>FTP</th>\n      <th>ea</th>\n      <th>9d</th>\n      <th>Agent Id</th>\n      <th>PREM IND</th>\n      <th>GA IND</th>\n      <th>VATS Ind</th>\n    </tr>\n  </thead>\n  <tbody>\n    <tr>\n      <td>0</td>\n      <td>409PFTF</td>\n      <td>NaN</td>\n      <td>NaN</td>\n      <td>CANADA</td>\n      <td>CA</td>\n      <td>Make</td>\n      <td>BQJJFTS</td>\n      <td>0</td>\n      <td>0</td>\n      <td>0</td>\n      <td>...</td>\n      <td>0</td>\n      <td>0</td>\n      <td>0</td>\n      <td>0</td>\n      <td>0</td>\n      <td>0</td>\n      <td>C-PAXBUS</td>\n      <td>Non-Premier Account</td>\n      <td>0</td>\n      <td>N</td>\n    </tr>\n    <tr>\n      <td>1</td>\n      <td>409PTT2</td>\n      <td>NaN</td>\n      <td>NaN</td>\n      <td>UNITED STATES</td>\n      <td>US</td>\n      <td>Make</td>\n      <td>0</td>\n      <td>0</td>\n      <td>0</td>\n      <td>0</td>\n      <td>...</td>\n      <td>0</td>\n      <td>0</td>\n      <td>0</td>\n      <td>0</td>\n      <td>12/16/2019 10:24</td>\n      <td>12/18/2019 11:54</td>\n      <td>WEB</td>\n      <td>Non-Premier Account</td>\n      <td>0</td>\n      <td>N</td>\n    </tr>\n    <tr>\n      <td>2</td>\n      <td>409PVLD</td>\n      <td>NaN</td>\n      <td>NaN</td>\n      <td>UNITED STATES</td>\n      <td>US</td>\n      <td>Make</td>\n      <td>0</td>\n      <td>0</td>\n      <td>0</td>\n      <td>0</td>\n      <td>...</td>\n      <td>0</td>\n      <td>0</td>\n      <td>0</td>\n      <td>0</td>\n      <td>12/16/2019 16:32</td>\n      <td>12/18/2019 11:48</td>\n      <td>WEB</td>\n      <td>Non-Premier Account</td>\n      <td>0</td>\n      <td>N</td>\n    </tr>\n    <tr>\n      <td>3</td>\n      <td>409MSGV</td>\n      <td>NaN</td>\n      <td>NaN</td>\n      <td>UNITED STATES</td>\n      <td>US</td>\n      <td>Miss</td>\n      <td>409MSGV</td>\n      <td>0</td>\n      <td>0</td>\n      <td>0</td>\n      <td>...</td>\n      <td>0</td>\n      <td>0</td>\n      <td>0</td>\n      <td>0</td>\n      <td>12/5/2019 14:34</td>\n      <td>0</td>\n      <td>WEB</td>\n      <td>Non-Premier Account</td>\n      <td>0</td>\n      <td>N</td>\n    </tr>\n    <tr>\n      <td>4</td>\n      <td>409G9TD</td>\n      <td>NaN</td>\n      <td>NaN</td>\n      <td>UNITED STATES</td>\n      <td>US</td>\n      <td>Miss</td>\n      <td>409G9TD</td>\n      <td>0</td>\n      <td>0</td>\n      <td>0</td>\n      <td>...</td>\n      <td>0</td>\n      <td>0</td>\n      <td>0</td>\n      <td>0</td>\n      <td>11/5/2019 16:03</td>\n      <td>0</td>\n      <td>WEB</td>\n      <td>Non-Premier Account</td>\n      <td>0</td>\n      <td>N</td>\n    </tr>\n    <tr>\n      <td>...</td>\n      <td>...</td>\n      <td>...</td>\n      <td>...</td>\n      <td>...</td>\n      <td>...</td>\n      <td>...</td>\n      <td>...</td>\n      <td>...</td>\n      <td>...</td>\n      <td>...</td>\n      <td>...</td>\n      <td>...</td>\n      <td>...</td>\n      <td>...</td>\n      <td>...</td>\n      <td>...</td>\n      <td>...</td>\n      <td>...</td>\n      <td>...</td>\n      <td>...</td>\n      <td>...</td>\n    </tr>\n    <tr>\n      <td>23558</td>\n      <td>409SC2W</td>\n      <td>NaN</td>\n      <td>NaN</td>\n      <td>UNITED STATES</td>\n      <td>US</td>\n      <td>Make</td>\n      <td>BQJF9GV</td>\n      <td>0</td>\n      <td>0</td>\n      <td>0</td>\n      <td>...</td>\n      <td>0</td>\n      <td>0</td>\n      <td>0</td>\n      <td>0</td>\n      <td>0</td>\n      <td>0</td>\n      <td>C-NUVDUS</td>\n      <td>Non-Premier Account</td>\n      <td>0</td>\n      <td>Y</td>\n    </tr>\n    <tr>\n      <td>23559</td>\n      <td>409QWNT</td>\n      <td>NaN</td>\n      <td>NaN</td>\n      <td>UNITED STATES</td>\n      <td>US</td>\n      <td>Miss</td>\n      <td>409QWNT</td>\n      <td>0</td>\n      <td>0</td>\n      <td>0</td>\n      <td>...</td>\n      <td>0</td>\n      <td>0</td>\n      <td>0</td>\n      <td>0</td>\n      <td>0</td>\n      <td>0</td>\n      <td>C-RATTUS</td>\n      <td>Non-Premier Account</td>\n      <td>0</td>\n      <td>Y</td>\n    </tr>\n    <tr>\n      <td>23560</td>\n      <td>409RTPK</td>\n      <td>NaN</td>\n      <td>NaN</td>\n      <td>CANADA</td>\n      <td>CA</td>\n      <td>Make</td>\n      <td>BQJFPPH</td>\n      <td>0</td>\n      <td>0</td>\n      <td>0</td>\n      <td>...</td>\n      <td>0</td>\n      <td>0</td>\n      <td>0</td>\n      <td>0</td>\n      <td>1/2/2020 15:05</td>\n      <td>1/3/2020 15:24</td>\n      <td>WEB</td>\n      <td>Non-Premier Account</td>\n      <td>0</td>\n      <td>Y</td>\n    </tr>\n    <tr>\n      <td>23561</td>\n      <td>409PP4V</td>\n      <td>NaN</td>\n      <td>NaN</td>\n      <td>UNITED STATES</td>\n      <td>US</td>\n      <td>Miss</td>\n      <td>BQJJG8L</td>\n      <td>0</td>\n      <td>0</td>\n      <td>0</td>\n      <td>...</td>\n      <td>0</td>\n      <td>0</td>\n      <td>0</td>\n      <td>0</td>\n      <td>0</td>\n      <td>12/17/2019 11:02</td>\n      <td>C-KKHKUS</td>\n      <td>Non-Premier Account</td>\n      <td>0</td>\n      <td>Y</td>\n    </tr>\n    <tr>\n      <td>23562</td>\n      <td>409QZQV</td>\n      <td>NaN</td>\n      <td>NaN</td>\n      <td>UNITED STATES</td>\n      <td>US</td>\n      <td>Miss</td>\n      <td>409QZQV</td>\n      <td>0</td>\n      <td>0</td>\n      <td>0</td>\n      <td>...</td>\n      <td>0</td>\n      <td>0</td>\n      <td>0</td>\n      <td>0</td>\n      <td>0</td>\n      <td>0</td>\n      <td>C-PA26US</td>\n      <td>Non-Premier Account</td>\n      <td>0</td>\n      <td>Y</td>\n    </tr>\n  </tbody>\n</table>\n<p>23563 rows × 104 columns</p>\n</div>",
      "text/plain": "        OCPM #  Geo  Region        Country Country ISO Code Make/Miss  \\\n0      409PFTF  NaN     NaN         CANADA               CA      Make   \n1      409PTT2  NaN     NaN  UNITED STATES               US      Make   \n2      409PVLD  NaN     NaN  UNITED STATES               US      Make   \n3      409MSGV  NaN     NaN  UNITED STATES               US      Miss   \n4      409G9TD  NaN     NaN  UNITED STATES               US      Miss   \n...        ...  ...     ...            ...              ...       ...   \n23558  409SC2W  NaN     NaN  UNITED STATES               US      Make   \n23559  409QWNT  NaN     NaN  UNITED STATES               US      Miss   \n23560  409RTPK  NaN     NaN         CANADA               CA      Make   \n23561  409PP4V  NaN     NaN  UNITED STATES               US      Miss   \n23562  409QZQV  NaN     NaN  UNITED STATES               US      Miss   \n\n       CROSS #  RCMS #  RETAIN #  Salesforce #  ... F5 F2B  F7 FTP  \\\n0      BQJJFTS       0         0             0  ...  0   0   0   0   \n1            0       0         0             0  ...  0   0   0   0   \n2            0       0         0             0  ...  0   0   0   0   \n3      409MSGV       0         0             0  ...  0   0   0   0   \n4      409G9TD       0         0             0  ...  0   0   0   0   \n...        ...     ...       ...           ...  ... ..  ..  ..  ..   \n23558  BQJF9GV       0         0             0  ...  0   0   0   0   \n23559  409QWNT       0         0             0  ...  0   0   0   0   \n23560  BQJFPPH       0         0             0  ...  0   0   0   0   \n23561  BQJJG8L       0         0             0  ...  0   0   0   0   \n23562  409QZQV       0         0             0  ...  0   0   0   0   \n\n                     ea                9d  Agent Id             PREM IND  \\\n0                     0                 0  C-PAXBUS  Non-Premier Account   \n1      12/16/2019 10:24  12/18/2019 11:54       WEB  Non-Premier Account   \n2      12/16/2019 16:32  12/18/2019 11:48       WEB  Non-Premier Account   \n3       12/5/2019 14:34                 0       WEB  Non-Premier Account   \n4       11/5/2019 16:03                 0       WEB  Non-Premier Account   \n...                 ...               ...       ...                  ...   \n23558                 0                 0  C-NUVDUS  Non-Premier Account   \n23559                 0                 0  C-RATTUS  Non-Premier Account   \n23560    1/2/2020 15:05    1/3/2020 15:24       WEB  Non-Premier Account   \n23561                 0  12/17/2019 11:02  C-KKHKUS  Non-Premier Account   \n23562                 0                 0  C-PA26US  Non-Premier Account   \n\n       GA IND  VATS Ind  \n0           0         N  \n1           0         N  \n2           0         N  \n3           0         N  \n4           0         N  \n...       ...       ...  \n23558       0         Y  \n23559       0         Y  \n23560       0         Y  \n23561       0         Y  \n23562       0         Y  \n\n[23563 rows x 104 columns]"
     },
     "execution_count": 14,
     "metadata": {},
     "output_type": "execute_result"
    }
   ],
   "source": [
    "#Read CSV file\n",
    "df = pd.read_csv('Resources/ECT_Data.csv', low_memory=False)\n",
    "df[['SR Create TS', 'SR Close TS', 'Cust Contact TS']] = df[['SR Create TS', 'SR Close TS', 'Cust Contact TS']].astype('datetime64[ns]')\n",
    "df"
   ]
  },
  {
   "cell_type": "code",
   "execution_count": 4,
   "metadata": {},
   "outputs": [],
   "source": [
    "#Create data frames split by years\n",
    "combined_df = df\n",
    "ytd_df = df[df['SR Create TS'] >= '2020-01-01']\n",
    "prevy_df = df[df['SR Create TS'] < '2020-01-01']"
   ]
  },
  {
   "cell_type": "code",
   "execution_count": 5,
   "metadata": {},
   "outputs": [
    {
     "name": "stderr",
     "output_type": "stream",
     "text": "C:\\ProgramData\\Anaconda3\\lib\\site-packages\\ipykernel_launcher.py:7: SettingWithCopyWarning: \nA value is trying to be set on a copy of a slice from a DataFrame.\nTry using .loc[row_indexer,col_indexer] = value instead\n\nSee the caveats in the documentation: http://pandas.pydata.org/pandas-docs/stable/user_guide/indexing.html#returning-a-view-versus-a-copy\n  import sys\nC:\\ProgramData\\Anaconda3\\lib\\site-packages\\ipykernel_launcher.py:8: SettingWithCopyWarning: \nA value is trying to be set on a copy of a slice from a DataFrame.\nTry using .loc[row_indexer,col_indexer] = value instead\n\nSee the caveats in the documentation: http://pandas.pydata.org/pandas-docs/stable/user_guide/indexing.html#returning-a-view-versus-a-copy\n  \nC:\\ProgramData\\Anaconda3\\lib\\site-packages\\ipykernel_launcher.py:9: SettingWithCopyWarning: \nA value is trying to be set on a copy of a slice from a DataFrame.\nTry using .loc[row_indexer,col_indexer] = value instead\n\nSee the caveats in the documentation: http://pandas.pydata.org/pandas-docs/stable/user_guide/indexing.html#returning-a-view-versus-a-copy\n  if __name__ == '__main__':\n"
    }
   ],
   "source": [
    "#Create new data frames with columns we're interested in\n",
    "combined_datetime_df = combined_df[['OCPM #', 'Make/Miss', 'SR Create TS', 'SR Close TS', 'Cust Contact TS']]\n",
    "ytd_datetime_df = ytd_df[['OCPM #', 'Make/Miss', 'SR Create TS', 'SR Close TS', 'Cust Contact TS']]\n",
    "prevy_datetime_df = prevy_df[['OCPM #', 'Make/Miss', 'SR Create TS', 'SR Close TS', 'Cust Contact TS']]\n",
    "\n",
    "#Create new columns with difference on data frames\n",
    "combined_datetime_df['Close and Create Diff'] = (combined_datetime_df['SR Close TS'] - combined_datetime_df['SR Create TS'])\n",
    "ytd_datetime_df['Close and Create Diff'] = (ytd_datetime_df['SR Close TS'] - ytd_datetime_df['SR Create TS'])\n",
    "prevy_datetime_df['Close and Create Diff'] = (prevy_datetime_df['SR Close TS'] - prevy_datetime_df['SR Create TS'])\n"
   ]
  },
  {
   "cell_type": "code",
   "execution_count": 6,
   "metadata": {},
   "outputs": [],
   "source": [
    "#Create groups\n",
    "combined_make_miss_group = combined_datetime_df.groupby('Make/Miss')\n",
    "ytd_make_miss_group = ytd_datetime_df.groupby('Make/Miss')\n",
    "prevy_make_miss_group = prevy_datetime_df.groupby('Make/Miss')"
   ]
  },
  {
   "cell_type": "markdown",
   "execution_count": null,
   "metadata": {},
   "outputs": [],
   "source": [
    "## Perecentages by year"
   ]
  },
  {
   "cell_type": "code",
   "execution_count": 7,
   "metadata": {},
   "outputs": [
    {
     "data": {
      "text/html": "<div>\n<style scoped>\n    .dataframe tbody tr th:only-of-type {\n        vertical-align: middle;\n    }\n\n    .dataframe tbody tr th {\n        vertical-align: top;\n    }\n\n    .dataframe thead th {\n        text-align: right;\n    }\n</style>\n<table border=\"1\" class=\"dataframe\">\n  <thead>\n    <tr style=\"text-align: right;\">\n      <th></th>\n      <th>2020</th>\n      <th>2019</th>\n      <th>Combined</th>\n    </tr>\n    <tr>\n      <th>Make/Miss</th>\n      <th></th>\n      <th></th>\n      <th></th>\n    </tr>\n  </thead>\n  <tbody>\n    <tr>\n      <td>Make</td>\n      <td>86.14%</td>\n      <td>24.64%</td>\n      <td>36.67%</td>\n    </tr>\n    <tr>\n      <td>Miss</td>\n      <td>13.86%</td>\n      <td>75.36%</td>\n      <td>63.33%</td>\n    </tr>\n  </tbody>\n</table>\n</div>",
      "text/plain": "             2020    2019 Combined\nMake/Miss                         \nMake       86.14%  24.64%   36.67%\nMiss       13.86%  75.36%   63.33%"
     },
     "execution_count": 7,
     "metadata": {},
     "output_type": "execute_result"
    }
   ],
   "source": [
    "#New data frame for summary of Make/Miss percentages\n",
    "percent_make_miss_df = pd.DataFrame({    \n",
    "    '2020': ytd_make_miss_group['OCPM #'].count() * 100 / ytd_make_miss_group['OCPM #'].count().sum(),\n",
    "    '2019': prevy_make_miss_group['OCPM #'].count() * 100 / prevy_make_miss_group['OCPM #'].count().sum(),\n",
    "    'Combined': combined_make_miss_group['OCPM #'].count() * 100 / combined_make_miss_group['OCPM #'].count().sum(),\n",
    "})\n",
    "\n",
    "#Format columns with percentages\n",
    "percent_make_miss_df['2020'] = percent_make_miss_df['2020'].map('{:.2f}%'.format)\n",
    "percent_make_miss_df['2019'] = percent_make_miss_df['2019'].map('{:.2f}%'.format)\n",
    "percent_make_miss_df['Combined'] = percent_make_miss_df['Combined'].map('{:.2f}%'.format)\n",
    "\n",
    "#Display data frame\n",
    "percent_make_miss_df"
   ]
  },
  {
   "cell_type": "markdown",
   "execution_count": null,
   "metadata": {},
   "outputs": [],
   "source": [
    "## Counts by year"
   ]
  },
  {
   "cell_type": "code",
   "execution_count": 8,
   "metadata": {},
   "outputs": [
    {
     "data": {
      "text/html": "<div>\n<style scoped>\n    .dataframe tbody tr th:only-of-type {\n        vertical-align: middle;\n    }\n\n    .dataframe tbody tr th {\n        vertical-align: top;\n    }\n\n    .dataframe thead th {\n        text-align: right;\n    }\n</style>\n<table border=\"1\" class=\"dataframe\">\n  <thead>\n    <tr style=\"text-align: right;\">\n      <th></th>\n      <th>2020 Count</th>\n      <th>2019 Count</th>\n      <th>Combined Count</th>\n    </tr>\n    <tr>\n      <th>Make/Miss</th>\n      <th></th>\n      <th></th>\n      <th></th>\n    </tr>\n  </thead>\n  <tbody>\n    <tr>\n      <td>Make</td>\n      <td>3971</td>\n      <td>4670</td>\n      <td>8641</td>\n    </tr>\n    <tr>\n      <td>Miss</td>\n      <td>639</td>\n      <td>14283</td>\n      <td>14922</td>\n    </tr>\n  </tbody>\n</table>\n</div>",
      "text/plain": "           2020 Count  2019 Count  Combined Count\nMake/Miss                                        \nMake             3971        4670            8641\nMiss              639       14283           14922"
     },
     "execution_count": 8,
     "metadata": {},
     "output_type": "execute_result"
    }
   ],
   "source": [
    "#New data frame for counts\n",
    "count_make_miss_df = pd.DataFrame({\n",
    "    '2020 Count': ytd_make_miss_group['Make/Miss'].count(),    \n",
    "    '2019 Count': prevy_make_miss_group['Make/Miss'].count(),\n",
    "    'Combined Count': combined_make_miss_group['Make/Miss'].count()\n",
    "})\n",
    "\n",
    "#Display data frame\n",
    "count_make_miss_df"
   ]
  },
  {
   "cell_type": "markdown",
   "execution_count": null,
   "metadata": {},
   "outputs": [],
   "source": [
    "## Stats by year"
   ]
  },
  {
   "cell_type": "code",
   "execution_count": 9,
   "metadata": {},
   "outputs": [
    {
     "data": {
      "text/html": "<div>\n<style scoped>\n    .dataframe tbody tr th:only-of-type {\n        vertical-align: middle;\n    }\n\n    .dataframe tbody tr th {\n        vertical-align: top;\n    }\n\n    .dataframe thead th {\n        text-align: right;\n    }\n</style>\n<table border=\"1\" class=\"dataframe\">\n  <thead>\n    <tr style=\"text-align: right;\">\n      <th></th>\n      <th>2020</th>\n      <th>2019</th>\n      <th>Combined</th>\n    </tr>\n  </thead>\n  <tbody>\n    <tr>\n      <td>count</td>\n      <td>4610</td>\n      <td>18953</td>\n      <td>23563</td>\n    </tr>\n    <tr>\n      <td>mean</td>\n      <td>3 days 09:20:36.442516</td>\n      <td>14 days 11:20:52.459241</td>\n      <td>12 days 07:18:18.988244</td>\n    </tr>\n    <tr>\n      <td>std</td>\n      <td>2 days 07:37:34.000030</td>\n      <td>10 days 21:48:51.613503</td>\n      <td>10 days 18:36:15.472835</td>\n    </tr>\n    <tr>\n      <td>min</td>\n      <td>0 days 00:01:00</td>\n      <td>0 days 00:02:00</td>\n      <td>0 days 00:01:00</td>\n    </tr>\n    <tr>\n      <td>25%</td>\n      <td>1 days 07:14:15</td>\n      <td>5 days 21:13:00</td>\n      <td>4 days 02:34:00</td>\n    </tr>\n    <tr>\n      <td>50%</td>\n      <td>3 days 02:03:30</td>\n      <td>13 days 04:34:00</td>\n      <td>8 days 10:18:00</td>\n    </tr>\n    <tr>\n      <td>75%</td>\n      <td>4 days 09:49:00</td>\n      <td>20 days 18:09:00</td>\n      <td>18 days 02:44:00</td>\n    </tr>\n    <tr>\n      <td>max</td>\n      <td>12 days 07:19:00</td>\n      <td>166 days 23:18:00</td>\n      <td>166 days 23:18:00</td>\n    </tr>\n  </tbody>\n</table>\n</div>",
      "text/plain": "                         2020                     2019  \\\ncount                    4610                    18953   \nmean   3 days 09:20:36.442516  14 days 11:20:52.459241   \nstd    2 days 07:37:34.000030  10 days 21:48:51.613503   \nmin           0 days 00:01:00          0 days 00:02:00   \n25%           1 days 07:14:15          5 days 21:13:00   \n50%           3 days 02:03:30         13 days 04:34:00   \n75%           4 days 09:49:00         20 days 18:09:00   \nmax          12 days 07:19:00        166 days 23:18:00   \n\n                      Combined  \ncount                    23563  \nmean   12 days 07:18:18.988244  \nstd    10 days 18:36:15.472835  \nmin            0 days 00:01:00  \n25%            4 days 02:34:00  \n50%            8 days 10:18:00  \n75%           18 days 02:44:00  \nmax          166 days 23:18:00  "
     },
     "execution_count": 9,
     "metadata": {},
     "output_type": "execute_result"
    }
   ],
   "source": [
    "#Descriptive stats data frame\n",
    "\n",
    "describe_df = pd.DataFrame({\n",
    "    '2020': ytd_datetime_df['Close and Create Diff'].describe(),\n",
    "    '2019': prevy_datetime_df['Close and Create Diff'].describe(),\n",
    "    'Combined': combined_datetime_df['Close and Create Diff'].describe()\n",
    "})\n",
    "\n",
    "describe_df"
   ]
  },
  {
   "cell_type": "code",
   "execution_count": null,
   "metadata": {},
   "outputs": [],
   "source": []
  }
 ]
}