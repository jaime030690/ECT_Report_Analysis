{
 "nbformat": 4,
 "nbformat_minor": 2,
 "metadata": {
  "language_info": {
   "name": "python",
   "codemirror_mode": {
    "name": "ipython",
    "version": 3
   },
   "version": "3.7.4-final"
  },
  "orig_nbformat": 2,
  "file_extension": ".py",
  "mimetype": "text/x-python",
  "name": "python",
  "npconvert_exporter": "python",
  "pygments_lexer": "ipython3",
  "version": 3,
  "kernelspec": {
   "name": "python37464bitbasecondaeb15dd16a5f74df4a7bc85322ce0ad17",
   "display_name": "Python 3.7.4 64-bit ('base': conda)"
  }
 },
 "cells": [
  {
   "cell_type": "code",
   "execution_count": 6,
   "metadata": {},
   "outputs": [],
   "source": [
    "##Dependencies\n",
    "import pandas as pd\n",
    "import matplotlib.pyplot as plt\n",
    "import numpy as np\n",
    "import random"
   ]
  },
  {
   "cell_type": "code",
   "execution_count": 2,
   "metadata": {},
   "outputs": [
    {
     "data": {
      "text/html": "<div>\n<style scoped>\n    .dataframe tbody tr th:only-of-type {\n        vertical-align: middle;\n    }\n\n    .dataframe tbody tr th {\n        vertical-align: top;\n    }\n\n    .dataframe thead th {\n        text-align: right;\n    }\n</style>\n<table border=\"1\" class=\"dataframe\">\n  <thead>\n    <tr style=\"text-align: right;\">\n      <th></th>\n      <th>OCPM #</th>\n      <th>Geo</th>\n      <th>Region</th>\n      <th>Country</th>\n      <th>Country ISO Code</th>\n      <th>Make/Miss</th>\n      <th>CROSS #</th>\n      <th>RCMS #</th>\n      <th>RETAIN #</th>\n      <th>Salesforce #</th>\n      <th>...</th>\n      <th>F5</th>\n      <th>F2B</th>\n      <th>F7</th>\n      <th>FTP</th>\n      <th>ea</th>\n      <th>9d</th>\n      <th>Agent Id</th>\n      <th>PREM IND</th>\n      <th>GA IND</th>\n      <th>VATS Ind</th>\n    </tr>\n  </thead>\n  <tbody>\n    <tr>\n      <td>0</td>\n      <td>409PFTF</td>\n      <td>NaN</td>\n      <td>NaN</td>\n      <td>CANADA</td>\n      <td>CA</td>\n      <td>Make</td>\n      <td>BQJJFTS</td>\n      <td>0</td>\n      <td>0</td>\n      <td>0</td>\n      <td>...</td>\n      <td>0</td>\n      <td>0</td>\n      <td>0</td>\n      <td>0</td>\n      <td>0</td>\n      <td>0</td>\n      <td>C-PAXBUS</td>\n      <td>Non-Premier Account</td>\n      <td>0</td>\n      <td>N</td>\n    </tr>\n    <tr>\n      <td>1</td>\n      <td>409PTT2</td>\n      <td>NaN</td>\n      <td>NaN</td>\n      <td>UNITED STATES</td>\n      <td>US</td>\n      <td>Make</td>\n      <td>0</td>\n      <td>0</td>\n      <td>0</td>\n      <td>0</td>\n      <td>...</td>\n      <td>0</td>\n      <td>0</td>\n      <td>0</td>\n      <td>0</td>\n      <td>12/16/2019 10:24</td>\n      <td>12/18/2019 11:54</td>\n      <td>WEB</td>\n      <td>Non-Premier Account</td>\n      <td>0</td>\n      <td>N</td>\n    </tr>\n    <tr>\n      <td>2</td>\n      <td>409PVLD</td>\n      <td>NaN</td>\n      <td>NaN</td>\n      <td>UNITED STATES</td>\n      <td>US</td>\n      <td>Make</td>\n      <td>0</td>\n      <td>0</td>\n      <td>0</td>\n      <td>0</td>\n      <td>...</td>\n      <td>0</td>\n      <td>0</td>\n      <td>0</td>\n      <td>0</td>\n      <td>12/16/2019 16:32</td>\n      <td>12/18/2019 11:48</td>\n      <td>WEB</td>\n      <td>Non-Premier Account</td>\n      <td>0</td>\n      <td>N</td>\n    </tr>\n    <tr>\n      <td>3</td>\n      <td>409MSGV</td>\n      <td>NaN</td>\n      <td>NaN</td>\n      <td>UNITED STATES</td>\n      <td>US</td>\n      <td>Miss</td>\n      <td>409MSGV</td>\n      <td>0</td>\n      <td>0</td>\n      <td>0</td>\n      <td>...</td>\n      <td>0</td>\n      <td>0</td>\n      <td>0</td>\n      <td>0</td>\n      <td>12/5/2019 14:34</td>\n      <td>0</td>\n      <td>WEB</td>\n      <td>Non-Premier Account</td>\n      <td>0</td>\n      <td>N</td>\n    </tr>\n    <tr>\n      <td>4</td>\n      <td>409G9TD</td>\n      <td>NaN</td>\n      <td>NaN</td>\n      <td>UNITED STATES</td>\n      <td>US</td>\n      <td>Miss</td>\n      <td>409G9TD</td>\n      <td>0</td>\n      <td>0</td>\n      <td>0</td>\n      <td>...</td>\n      <td>0</td>\n      <td>0</td>\n      <td>0</td>\n      <td>0</td>\n      <td>11/5/2019 16:03</td>\n      <td>0</td>\n      <td>WEB</td>\n      <td>Non-Premier Account</td>\n      <td>0</td>\n      <td>N</td>\n    </tr>\n    <tr>\n      <td>...</td>\n      <td>...</td>\n      <td>...</td>\n      <td>...</td>\n      <td>...</td>\n      <td>...</td>\n      <td>...</td>\n      <td>...</td>\n      <td>...</td>\n      <td>...</td>\n      <td>...</td>\n      <td>...</td>\n      <td>...</td>\n      <td>...</td>\n      <td>...</td>\n      <td>...</td>\n      <td>...</td>\n      <td>...</td>\n      <td>...</td>\n      <td>...</td>\n      <td>...</td>\n      <td>...</td>\n    </tr>\n    <tr>\n      <td>23558</td>\n      <td>409SC2W</td>\n      <td>NaN</td>\n      <td>NaN</td>\n      <td>UNITED STATES</td>\n      <td>US</td>\n      <td>Make</td>\n      <td>BQJF9GV</td>\n      <td>0</td>\n      <td>0</td>\n      <td>0</td>\n      <td>...</td>\n      <td>0</td>\n      <td>0</td>\n      <td>0</td>\n      <td>0</td>\n      <td>0</td>\n      <td>0</td>\n      <td>C-NUVDUS</td>\n      <td>Non-Premier Account</td>\n      <td>0</td>\n      <td>Y</td>\n    </tr>\n    <tr>\n      <td>23559</td>\n      <td>409QWNT</td>\n      <td>NaN</td>\n      <td>NaN</td>\n      <td>UNITED STATES</td>\n      <td>US</td>\n      <td>Miss</td>\n      <td>409QWNT</td>\n      <td>0</td>\n      <td>0</td>\n      <td>0</td>\n      <td>...</td>\n      <td>0</td>\n      <td>0</td>\n      <td>0</td>\n      <td>0</td>\n      <td>0</td>\n      <td>0</td>\n      <td>C-RATTUS</td>\n      <td>Non-Premier Account</td>\n      <td>0</td>\n      <td>Y</td>\n    </tr>\n    <tr>\n      <td>23560</td>\n      <td>409RTPK</td>\n      <td>NaN</td>\n      <td>NaN</td>\n      <td>CANADA</td>\n      <td>CA</td>\n      <td>Make</td>\n      <td>BQJFPPH</td>\n      <td>0</td>\n      <td>0</td>\n      <td>0</td>\n      <td>...</td>\n      <td>0</td>\n      <td>0</td>\n      <td>0</td>\n      <td>0</td>\n      <td>1/2/2020 15:05</td>\n      <td>1/3/2020 15:24</td>\n      <td>WEB</td>\n      <td>Non-Premier Account</td>\n      <td>0</td>\n      <td>Y</td>\n    </tr>\n    <tr>\n      <td>23561</td>\n      <td>409PP4V</td>\n      <td>NaN</td>\n      <td>NaN</td>\n      <td>UNITED STATES</td>\n      <td>US</td>\n      <td>Miss</td>\n      <td>BQJJG8L</td>\n      <td>0</td>\n      <td>0</td>\n      <td>0</td>\n      <td>...</td>\n      <td>0</td>\n      <td>0</td>\n      <td>0</td>\n      <td>0</td>\n      <td>0</td>\n      <td>12/17/2019 11:02</td>\n      <td>C-KKHKUS</td>\n      <td>Non-Premier Account</td>\n      <td>0</td>\n      <td>Y</td>\n    </tr>\n    <tr>\n      <td>23562</td>\n      <td>409QZQV</td>\n      <td>NaN</td>\n      <td>NaN</td>\n      <td>UNITED STATES</td>\n      <td>US</td>\n      <td>Miss</td>\n      <td>409QZQV</td>\n      <td>0</td>\n      <td>0</td>\n      <td>0</td>\n      <td>...</td>\n      <td>0</td>\n      <td>0</td>\n      <td>0</td>\n      <td>0</td>\n      <td>0</td>\n      <td>0</td>\n      <td>C-PA26US</td>\n      <td>Non-Premier Account</td>\n      <td>0</td>\n      <td>Y</td>\n    </tr>\n  </tbody>\n</table>\n<p>23563 rows × 104 columns</p>\n</div>",
      "text/plain": "        OCPM #  Geo  Region        Country Country ISO Code Make/Miss  \\\n0      409PFTF  NaN     NaN         CANADA               CA      Make   \n1      409PTT2  NaN     NaN  UNITED STATES               US      Make   \n2      409PVLD  NaN     NaN  UNITED STATES               US      Make   \n3      409MSGV  NaN     NaN  UNITED STATES               US      Miss   \n4      409G9TD  NaN     NaN  UNITED STATES               US      Miss   \n...        ...  ...     ...            ...              ...       ...   \n23558  409SC2W  NaN     NaN  UNITED STATES               US      Make   \n23559  409QWNT  NaN     NaN  UNITED STATES               US      Miss   \n23560  409RTPK  NaN     NaN         CANADA               CA      Make   \n23561  409PP4V  NaN     NaN  UNITED STATES               US      Miss   \n23562  409QZQV  NaN     NaN  UNITED STATES               US      Miss   \n\n       CROSS #  RCMS #  RETAIN #  Salesforce #  ... F5 F2B  F7 FTP  \\\n0      BQJJFTS       0         0             0  ...  0   0   0   0   \n1            0       0         0             0  ...  0   0   0   0   \n2            0       0         0             0  ...  0   0   0   0   \n3      409MSGV       0         0             0  ...  0   0   0   0   \n4      409G9TD       0         0             0  ...  0   0   0   0   \n...        ...     ...       ...           ...  ... ..  ..  ..  ..   \n23558  BQJF9GV       0         0             0  ...  0   0   0   0   \n23559  409QWNT       0         0             0  ...  0   0   0   0   \n23560  BQJFPPH       0         0             0  ...  0   0   0   0   \n23561  BQJJG8L       0         0             0  ...  0   0   0   0   \n23562  409QZQV       0         0             0  ...  0   0   0   0   \n\n                     ea                9d  Agent Id             PREM IND  \\\n0                     0                 0  C-PAXBUS  Non-Premier Account   \n1      12/16/2019 10:24  12/18/2019 11:54       WEB  Non-Premier Account   \n2      12/16/2019 16:32  12/18/2019 11:48       WEB  Non-Premier Account   \n3       12/5/2019 14:34                 0       WEB  Non-Premier Account   \n4       11/5/2019 16:03                 0       WEB  Non-Premier Account   \n...                 ...               ...       ...                  ...   \n23558                 0                 0  C-NUVDUS  Non-Premier Account   \n23559                 0                 0  C-RATTUS  Non-Premier Account   \n23560    1/2/2020 15:05    1/3/2020 15:24       WEB  Non-Premier Account   \n23561                 0  12/17/2019 11:02  C-KKHKUS  Non-Premier Account   \n23562                 0                 0  C-PA26US  Non-Premier Account   \n\n       GA IND  VATS Ind  \n0           0         N  \n1           0         N  \n2           0         N  \n3           0         N  \n4           0         N  \n...       ...       ...  \n23558       0         Y  \n23559       0         Y  \n23560       0         Y  \n23561       0         Y  \n23562       0         Y  \n\n[23563 rows x 104 columns]"
     },
     "execution_count": 2,
     "metadata": {},
     "output_type": "execute_result"
    }
   ],
   "source": [
    "#Read CSV file\n",
    "df = pd.read_csv('Resources/ECT_Data.csv', low_memory=False)\n",
    "df[['SR Create TS', 'SR Close TS', 'Cust Contact TS']] = df[['SR Create TS', 'SR Close TS', 'Cust Contact TS']].astype('datetime64[ns]')\n",
    "df"
   ]
  },
  {
   "cell_type": "code",
   "execution_count": 9,
   "metadata": {},
   "outputs": [],
   "source": [
    "#Pulling random indexes\n",
    "rows, cols = df.shape\n",
    "sample_size = 378\n",
    "index_list = random.sample(range(rows - 1), sample_size)"
   ]
  },
  {
   "cell_type": "code",
   "execution_count": 11,
   "metadata": {},
   "outputs": [],
   "source": [
    "#Create new df using indexes\n",
    "new_df = df.loc[index_list, :]"
   ]
  },
  {
   "cell_type": "code",
   "execution_count": 13,
   "metadata": {},
   "outputs": [],
   "source": [
    "#Save df to csv file\n",
    "new_df.to_csv('Resources/random_sample_2.csv')"
   ]
  }
 ]
}