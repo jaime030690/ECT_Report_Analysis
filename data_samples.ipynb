{
 "nbformat": 4,
 "nbformat_minor": 2,
 "metadata": {
  "language_info": {
   "name": "python",
   "codemirror_mode": {
    "name": "ipython",
    "version": 3
   },
   "version": "3.7.4-final"
  },
  "orig_nbformat": 2,
  "file_extension": ".py",
  "mimetype": "text/x-python",
  "name": "python",
  "npconvert_exporter": "python",
  "pygments_lexer": "ipython3",
  "version": 3,
  "kernelspec": {
   "name": "python37464bitbasecondaeb15dd16a5f74df4a7bc85322ce0ad17",
   "display_name": "Python 3.7.4 64-bit ('base': conda)"
  }
 },
 "cells": [
  {
   "cell_type": "code",
   "execution_count": 25,
   "metadata": {},
   "outputs": [],
   "source": [
    "##Dependencies\n",
    "import pandas as pd\n",
    "import matplotlib.pyplot as plt\n",
    "import numpy as np"
   ]
  },
  {
   "cell_type": "code",
   "execution_count": 26,
   "metadata": {},
   "outputs": [
    {
     "data": {
      "text/html": "<div>\n<style scoped>\n    .dataframe tbody tr th:only-of-type {\n        vertical-align: middle;\n    }\n\n    .dataframe tbody tr th {\n        vertical-align: top;\n    }\n\n    .dataframe thead th {\n        text-align: right;\n    }\n</style>\n<table border=\"1\" class=\"dataframe\">\n  <thead>\n    <tr style=\"text-align: right;\">\n      <th></th>\n      <th>Original Index</th>\n      <th>OCPM #</th>\n      <th>Geo</th>\n      <th>Region</th>\n      <th>Country</th>\n      <th>Country ISO Code</th>\n      <th>Make/Miss</th>\n      <th>CROSS #</th>\n      <th>RCMS #</th>\n      <th>RETAIN #</th>\n      <th>...</th>\n      <th>F2B</th>\n      <th>F7</th>\n      <th>FTP</th>\n      <th>ea</th>\n      <th>9d</th>\n      <th>Agent Id</th>\n      <th>PREM IND</th>\n      <th>GA IND</th>\n      <th>VATS Ind</th>\n      <th>CQ Applied TS</th>\n    </tr>\n  </thead>\n  <tbody>\n    <tr>\n      <td>0</td>\n      <td>14033</td>\n      <td>CLKDKDL</td>\n      <td>NaN</td>\n      <td>NaN</td>\n      <td>CANADA</td>\n      <td>CA</td>\n      <td>Make</td>\n      <td>BQJGPDF</td>\n      <td>0</td>\n      <td>0</td>\n      <td>...</td>\n      <td>0</td>\n      <td>0</td>\n      <td>0</td>\n      <td>12/24/2019 10:57</td>\n      <td>0</td>\n      <td>ECI</td>\n      <td>Non-Premier Account</td>\n      <td>0</td>\n      <td>N</td>\n      <td>2019-12-24 11:11:00</td>\n    </tr>\n    <tr>\n      <td>1</td>\n      <td>9560</td>\n      <td>409QMTZ</td>\n      <td>NaN</td>\n      <td>NaN</td>\n      <td>UNITED STATES</td>\n      <td>US</td>\n      <td>Miss</td>\n      <td>409QMTZ</td>\n      <td>0</td>\n      <td>0</td>\n      <td>...</td>\n      <td>0</td>\n      <td>0</td>\n      <td>0</td>\n      <td>0</td>\n      <td>0</td>\n      <td>C-6MCXUS</td>\n      <td>Non-Premier Account</td>\n      <td>0</td>\n      <td>N</td>\n      <td>2019-12-20 12:39:00</td>\n    </tr>\n    <tr>\n      <td>2</td>\n      <td>20647</td>\n      <td>409RVRY</td>\n      <td>NaN</td>\n      <td>NaN</td>\n      <td>CANADA</td>\n      <td>CA</td>\n      <td>Miss</td>\n      <td>409RVRY</td>\n      <td>0</td>\n      <td>0</td>\n      <td>...</td>\n      <td>0</td>\n      <td>0</td>\n      <td>0</td>\n      <td>1/2/2020 18:25</td>\n      <td>0</td>\n      <td>WEB</td>\n      <td>Non-Premier Account</td>\n      <td>0</td>\n      <td>Y</td>\n      <td>2020-01-02 18:53:00</td>\n    </tr>\n    <tr>\n      <td>3</td>\n      <td>3203</td>\n      <td>409RW88</td>\n      <td>NaN</td>\n      <td>NaN</td>\n      <td>UNITED STATES</td>\n      <td>US</td>\n      <td>Make</td>\n      <td>BQJFNTH</td>\n      <td>0</td>\n      <td>0</td>\n      <td>...</td>\n      <td>0</td>\n      <td>0</td>\n      <td>0</td>\n      <td>1/2/2020 18:02</td>\n      <td>1/3/2020 12:57</td>\n      <td>WEB</td>\n      <td>Premier Account</td>\n      <td>0</td>\n      <td>N</td>\n      <td>2020-01-02 18:05:00</td>\n    </tr>\n    <tr>\n      <td>4</td>\n      <td>4801</td>\n      <td>409PNY9</td>\n      <td>NaN</td>\n      <td>NaN</td>\n      <td>UNITED STATES</td>\n      <td>US</td>\n      <td>Miss</td>\n      <td>BQJJGBQ</td>\n      <td>0</td>\n      <td>0</td>\n      <td>...</td>\n      <td>0</td>\n      <td>0</td>\n      <td>0</td>\n      <td>12/15/2019 15:59</td>\n      <td>12/20/2019 11:03</td>\n      <td>WEB</td>\n      <td>Non-Premier Account</td>\n      <td>0</td>\n      <td>N</td>\n      <td>2019-12-15 22:05:00</td>\n    </tr>\n    <tr>\n      <td>...</td>\n      <td>...</td>\n      <td>...</td>\n      <td>...</td>\n      <td>...</td>\n      <td>...</td>\n      <td>...</td>\n      <td>...</td>\n      <td>...</td>\n      <td>...</td>\n      <td>...</td>\n      <td>...</td>\n      <td>...</td>\n      <td>...</td>\n      <td>...</td>\n      <td>...</td>\n      <td>...</td>\n      <td>...</td>\n      <td>...</td>\n      <td>...</td>\n      <td>...</td>\n      <td>...</td>\n    </tr>\n    <tr>\n      <td>373</td>\n      <td>15567</td>\n      <td>409S8TM</td>\n      <td>NaN</td>\n      <td>NaN</td>\n      <td>UNITED STATES</td>\n      <td>US</td>\n      <td>Make</td>\n      <td>BQJF9RQ</td>\n      <td>0</td>\n      <td>0</td>\n      <td>...</td>\n      <td>0</td>\n      <td>0</td>\n      <td>0</td>\n      <td>1/6/2020 11:40</td>\n      <td>1/7/2020 14:36</td>\n      <td>WEB</td>\n      <td>Non-Premier Account</td>\n      <td>0</td>\n      <td>N</td>\n      <td>2020-01-06 11:50:00</td>\n    </tr>\n    <tr>\n      <td>374</td>\n      <td>170</td>\n      <td>409NB6H</td>\n      <td>NaN</td>\n      <td>NaN</td>\n      <td>UNITED STATES</td>\n      <td>US</td>\n      <td>Miss</td>\n      <td>409NB6H</td>\n      <td>0</td>\n      <td>0</td>\n      <td>...</td>\n      <td>0</td>\n      <td>0</td>\n      <td>0</td>\n      <td>0</td>\n      <td>0</td>\n      <td>C-NHPRUS</td>\n      <td>Non-Premier Account</td>\n      <td>0</td>\n      <td>N</td>\n      <td>2019-12-06 10:51:00</td>\n    </tr>\n    <tr>\n      <td>375</td>\n      <td>12559</td>\n      <td>409RF49</td>\n      <td>NaN</td>\n      <td>NaN</td>\n      <td>UNITED STATES</td>\n      <td>US</td>\n      <td>Miss</td>\n      <td>0</td>\n      <td>0</td>\n      <td>0</td>\n      <td>...</td>\n      <td>0</td>\n      <td>0</td>\n      <td>0</td>\n      <td>12/27/2019 16:06</td>\n      <td>0</td>\n      <td>WEB</td>\n      <td>Non-Premier Account</td>\n      <td>0</td>\n      <td>N</td>\n      <td>2019-12-27 16:09:00</td>\n    </tr>\n    <tr>\n      <td>376</td>\n      <td>22530</td>\n      <td>409Q5D3</td>\n      <td>NaN</td>\n      <td>NaN</td>\n      <td>UNITED STATES</td>\n      <td>US</td>\n      <td>Miss</td>\n      <td>0</td>\n      <td>0</td>\n      <td>0</td>\n      <td>...</td>\n      <td>0</td>\n      <td>0</td>\n      <td>0</td>\n      <td>0</td>\n      <td>12/19/2019 18:37</td>\n      <td>C-PUTDUS</td>\n      <td>Non-Premier Account</td>\n      <td>0</td>\n      <td>Y</td>\n      <td>2019-12-17 10:27:00</td>\n    </tr>\n    <tr>\n      <td>377</td>\n      <td>8555</td>\n      <td>409RFCW</td>\n      <td>NaN</td>\n      <td>NaN</td>\n      <td>CANADA</td>\n      <td>CA</td>\n      <td>Miss</td>\n      <td>409RFCW</td>\n      <td>0</td>\n      <td>0</td>\n      <td>...</td>\n      <td>0</td>\n      <td>0</td>\n      <td>0</td>\n      <td>0</td>\n      <td>0</td>\n      <td>C-P392US</td>\n      <td>Non-Premier Account</td>\n      <td>0</td>\n      <td>N</td>\n      <td>2019-12-27 16:38:00</td>\n    </tr>\n  </tbody>\n</table>\n<p>378 rows × 106 columns</p>\n</div>",
      "text/plain": "     Original Index   OCPM #  Geo  Region        Country Country ISO Code  \\\n0             14033  CLKDKDL  NaN     NaN         CANADA               CA   \n1              9560  409QMTZ  NaN     NaN  UNITED STATES               US   \n2             20647  409RVRY  NaN     NaN         CANADA               CA   \n3              3203  409RW88  NaN     NaN  UNITED STATES               US   \n4              4801  409PNY9  NaN     NaN  UNITED STATES               US   \n..              ...      ...  ...     ...            ...              ...   \n373           15567  409S8TM  NaN     NaN  UNITED STATES               US   \n374             170  409NB6H  NaN     NaN  UNITED STATES               US   \n375           12559  409RF49  NaN     NaN  UNITED STATES               US   \n376           22530  409Q5D3  NaN     NaN  UNITED STATES               US   \n377            8555  409RFCW  NaN     NaN         CANADA               CA   \n\n    Make/Miss  CROSS #  RCMS #  RETAIN #  ...  F2B F7 FTP                ea  \\\n0        Make  BQJGPDF       0         0  ...    0  0   0  12/24/2019 10:57   \n1        Miss  409QMTZ       0         0  ...    0  0   0                 0   \n2        Miss  409RVRY       0         0  ...    0  0   0    1/2/2020 18:25   \n3        Make  BQJFNTH       0         0  ...    0  0   0    1/2/2020 18:02   \n4        Miss  BQJJGBQ       0         0  ...    0  0   0  12/15/2019 15:59   \n..        ...      ...     ...       ...  ...  ... ..  ..               ...   \n373      Make  BQJF9RQ       0         0  ...    0  0   0    1/6/2020 11:40   \n374      Miss  409NB6H       0         0  ...    0  0   0                 0   \n375      Miss        0       0         0  ...    0  0   0  12/27/2019 16:06   \n376      Miss        0       0         0  ...    0  0   0                 0   \n377      Miss  409RFCW       0         0  ...    0  0   0                 0   \n\n                   9d  Agent Id             PREM IND GA IND  VATS Ind  \\\n0                   0       ECI  Non-Premier Account      0         N   \n1                   0  C-6MCXUS  Non-Premier Account      0         N   \n2                   0       WEB  Non-Premier Account      0         Y   \n3      1/3/2020 12:57       WEB      Premier Account      0         N   \n4    12/20/2019 11:03       WEB  Non-Premier Account      0         N   \n..                ...       ...                  ...    ...       ...   \n373    1/7/2020 14:36       WEB  Non-Premier Account      0         N   \n374                 0  C-NHPRUS  Non-Premier Account      0         N   \n375                 0       WEB  Non-Premier Account      0         N   \n376  12/19/2019 18:37  C-PUTDUS  Non-Premier Account      0         Y   \n377                 0  C-P392US  Non-Premier Account      0         N   \n\n          CQ Applied TS  \n0   2019-12-24 11:11:00  \n1   2019-12-20 12:39:00  \n2   2020-01-02 18:53:00  \n3   2020-01-02 18:05:00  \n4   2019-12-15 22:05:00  \n..                  ...  \n373 2020-01-06 11:50:00  \n374 2019-12-06 10:51:00  \n375 2019-12-27 16:09:00  \n376 2019-12-17 10:27:00  \n377 2019-12-27 16:38:00  \n\n[378 rows x 106 columns]"
     },
     "execution_count": 26,
     "metadata": {},
     "output_type": "execute_result"
    }
   ],
   "source": [
    "#Read csv file\n",
    "df = pd.read_csv('Resources/random_cases.csv')\n",
    "df[['SR Create TS', 'SR Close TS', 'Cust Contact TS', 'CQ Applied TS']] = df[['SR Create TS', 'SR Close TS', 'Cust Contact TS', 'CQ Applied TS']].astype('datetime64[ns]')\n",
    "df"
   ]
  },
  {
   "cell_type": "code",
   "execution_count": 27,
   "metadata": {},
   "outputs": [
    {
     "data": {
      "text/html": "<div>\n<style scoped>\n    .dataframe tbody tr th:only-of-type {\n        vertical-align: middle;\n    }\n\n    .dataframe tbody tr th {\n        vertical-align: top;\n    }\n\n    .dataframe thead th {\n        text-align: right;\n    }\n</style>\n<table border=\"1\" class=\"dataframe\">\n  <thead>\n    <tr style=\"text-align: right;\">\n      <th></th>\n      <th>OCPM #</th>\n      <th>Make/Miss</th>\n      <th>SR Create TS</th>\n      <th>SR Close TS</th>\n      <th>Cust Contact TS</th>\n      <th>CQ Applied TS</th>\n    </tr>\n  </thead>\n  <tbody>\n    <tr>\n      <td>0</td>\n      <td>CLKDKDL</td>\n      <td>Make</td>\n      <td>2019-12-24 10:47:00</td>\n      <td>2019-12-27 10:18:00</td>\n      <td>2019-12-24 15:06:00</td>\n      <td>2019-12-24 11:11:00</td>\n    </tr>\n    <tr>\n      <td>1</td>\n      <td>409QMTZ</td>\n      <td>Miss</td>\n      <td>2019-12-19 12:15:00</td>\n      <td>2020-01-10 15:51:00</td>\n      <td>2019-12-19 12:16:00</td>\n      <td>2019-12-20 12:39:00</td>\n    </tr>\n    <tr>\n      <td>2</td>\n      <td>409RVRY</td>\n      <td>Miss</td>\n      <td>2020-01-02 15:10:00</td>\n      <td>2020-01-13 14:11:00</td>\n      <td>NaT</td>\n      <td>2020-01-02 18:53:00</td>\n    </tr>\n    <tr>\n      <td>3</td>\n      <td>409RW88</td>\n      <td>Make</td>\n      <td>2020-01-02 16:23:00</td>\n      <td>2020-01-06 15:51:00</td>\n      <td>2020-01-06 11:17:00</td>\n      <td>2020-01-02 18:05:00</td>\n    </tr>\n    <tr>\n      <td>4</td>\n      <td>409PNY9</td>\n      <td>Miss</td>\n      <td>2019-12-13 23:57:00</td>\n      <td>2020-01-10 09:21:00</td>\n      <td>2019-12-16 12:45:00</td>\n      <td>2019-12-15 22:05:00</td>\n    </tr>\n  </tbody>\n</table>\n</div>",
      "text/plain": "    OCPM # Make/Miss        SR Create TS         SR Close TS  \\\n0  CLKDKDL      Make 2019-12-24 10:47:00 2019-12-27 10:18:00   \n1  409QMTZ      Miss 2019-12-19 12:15:00 2020-01-10 15:51:00   \n2  409RVRY      Miss 2020-01-02 15:10:00 2020-01-13 14:11:00   \n3  409RW88      Make 2020-01-02 16:23:00 2020-01-06 15:51:00   \n4  409PNY9      Miss 2019-12-13 23:57:00 2020-01-10 09:21:00   \n\n      Cust Contact TS       CQ Applied TS  \n0 2019-12-24 15:06:00 2019-12-24 11:11:00  \n1 2019-12-19 12:16:00 2019-12-20 12:39:00  \n2                 NaT 2020-01-02 18:53:00  \n3 2020-01-06 11:17:00 2020-01-02 18:05:00  \n4 2019-12-16 12:45:00 2019-12-15 22:05:00  "
     },
     "execution_count": 27,
     "metadata": {},
     "output_type": "execute_result"
    }
   ],
   "source": [
    "#Create new data with columns we're interested in\n",
    "dates_df = df[['OCPM #', 'Make/Miss', 'SR Create TS', 'SR Close TS', 'Cust Contact TS', 'CQ Applied TS']]\n",
    "dates_df.head()"
   ]
  },
  {
   "cell_type": "code",
   "execution_count": 28,
   "metadata": {},
   "outputs": [
    {
     "name": "stderr",
     "output_type": "stream",
     "text": "C:\\ProgramData\\Anaconda3\\lib\\site-packages\\ipykernel_launcher.py:2: SettingWithCopyWarning: \nA value is trying to be set on a copy of a slice from a DataFrame.\nTry using .loc[row_indexer,col_indexer] = value instead\n\nSee the caveats in the documentation: http://pandas.pydata.org/pandas-docs/stable/user_guide/indexing.html#returning-a-view-versus-a-copy\n  \n"
    },
    {
     "data": {
      "text/html": "<div>\n<style scoped>\n    .dataframe tbody tr th:only-of-type {\n        vertical-align: middle;\n    }\n\n    .dataframe tbody tr th {\n        vertical-align: top;\n    }\n\n    .dataframe thead th {\n        text-align: right;\n    }\n</style>\n<table border=\"1\" class=\"dataframe\">\n  <thead>\n    <tr style=\"text-align: right;\">\n      <th></th>\n      <th>OCPM #</th>\n      <th>Make/Miss</th>\n      <th>SR Create TS</th>\n      <th>SR Close TS</th>\n      <th>Cust Contact TS</th>\n      <th>CQ Applied TS</th>\n      <th>CQ and Create Diff</th>\n    </tr>\n  </thead>\n  <tbody>\n    <tr>\n      <td>0</td>\n      <td>CLKDKDL</td>\n      <td>Make</td>\n      <td>2019-12-24 10:47:00</td>\n      <td>2019-12-27 10:18:00</td>\n      <td>2019-12-24 15:06:00</td>\n      <td>2019-12-24 11:11:00</td>\n      <td>0 days 00:24:00</td>\n    </tr>\n    <tr>\n      <td>1</td>\n      <td>409QMTZ</td>\n      <td>Miss</td>\n      <td>2019-12-19 12:15:00</td>\n      <td>2020-01-10 15:51:00</td>\n      <td>2019-12-19 12:16:00</td>\n      <td>2019-12-20 12:39:00</td>\n      <td>1 days 00:24:00</td>\n    </tr>\n    <tr>\n      <td>2</td>\n      <td>409RVRY</td>\n      <td>Miss</td>\n      <td>2020-01-02 15:10:00</td>\n      <td>2020-01-13 14:11:00</td>\n      <td>NaT</td>\n      <td>2020-01-02 18:53:00</td>\n      <td>0 days 03:43:00</td>\n    </tr>\n    <tr>\n      <td>3</td>\n      <td>409RW88</td>\n      <td>Make</td>\n      <td>2020-01-02 16:23:00</td>\n      <td>2020-01-06 15:51:00</td>\n      <td>2020-01-06 11:17:00</td>\n      <td>2020-01-02 18:05:00</td>\n      <td>0 days 01:42:00</td>\n    </tr>\n    <tr>\n      <td>4</td>\n      <td>409PNY9</td>\n      <td>Miss</td>\n      <td>2019-12-13 23:57:00</td>\n      <td>2020-01-10 09:21:00</td>\n      <td>2019-12-16 12:45:00</td>\n      <td>2019-12-15 22:05:00</td>\n      <td>1 days 22:08:00</td>\n    </tr>\n    <tr>\n      <td>...</td>\n      <td>...</td>\n      <td>...</td>\n      <td>...</td>\n      <td>...</td>\n      <td>...</td>\n      <td>...</td>\n      <td>...</td>\n    </tr>\n    <tr>\n      <td>373</td>\n      <td>409S8TM</td>\n      <td>Make</td>\n      <td>2020-01-06 09:26:00</td>\n      <td>2020-01-09 08:32:00</td>\n      <td>2020-01-06 11:49:00</td>\n      <td>2020-01-06 11:50:00</td>\n      <td>0 days 02:24:00</td>\n    </tr>\n    <tr>\n      <td>374</td>\n      <td>409NB6H</td>\n      <td>Miss</td>\n      <td>2019-12-06 10:48:00</td>\n      <td>2019-12-23 09:36:00</td>\n      <td>2019-12-06 10:49:00</td>\n      <td>2019-12-06 10:51:00</td>\n      <td>0 days 00:03:00</td>\n    </tr>\n    <tr>\n      <td>375</td>\n      <td>409RF49</td>\n      <td>Miss</td>\n      <td>2019-12-27 15:19:00</td>\n      <td>2020-01-02 21:20:00</td>\n      <td>NaT</td>\n      <td>2019-12-27 16:09:00</td>\n      <td>0 days 00:50:00</td>\n    </tr>\n    <tr>\n      <td>376</td>\n      <td>409Q5D3</td>\n      <td>Miss</td>\n      <td>2019-12-17 10:08:00</td>\n      <td>2019-12-23 21:30:00</td>\n      <td>2019-12-17 10:09:00</td>\n      <td>2019-12-17 10:27:00</td>\n      <td>0 days 00:19:00</td>\n    </tr>\n    <tr>\n      <td>377</td>\n      <td>409RFCW</td>\n      <td>Miss</td>\n      <td>2019-12-27 16:34:00</td>\n      <td>2020-01-08 13:33:00</td>\n      <td>2019-12-27 16:35:00</td>\n      <td>2019-12-27 16:38:00</td>\n      <td>0 days 00:04:00</td>\n    </tr>\n  </tbody>\n</table>\n<p>378 rows × 7 columns</p>\n</div>",
      "text/plain": "      OCPM # Make/Miss        SR Create TS         SR Close TS  \\\n0    CLKDKDL      Make 2019-12-24 10:47:00 2019-12-27 10:18:00   \n1    409QMTZ      Miss 2019-12-19 12:15:00 2020-01-10 15:51:00   \n2    409RVRY      Miss 2020-01-02 15:10:00 2020-01-13 14:11:00   \n3    409RW88      Make 2020-01-02 16:23:00 2020-01-06 15:51:00   \n4    409PNY9      Miss 2019-12-13 23:57:00 2020-01-10 09:21:00   \n..       ...       ...                 ...                 ...   \n373  409S8TM      Make 2020-01-06 09:26:00 2020-01-09 08:32:00   \n374  409NB6H      Miss 2019-12-06 10:48:00 2019-12-23 09:36:00   \n375  409RF49      Miss 2019-12-27 15:19:00 2020-01-02 21:20:00   \n376  409Q5D3      Miss 2019-12-17 10:08:00 2019-12-23 21:30:00   \n377  409RFCW      Miss 2019-12-27 16:34:00 2020-01-08 13:33:00   \n\n        Cust Contact TS       CQ Applied TS CQ and Create Diff  \n0   2019-12-24 15:06:00 2019-12-24 11:11:00    0 days 00:24:00  \n1   2019-12-19 12:16:00 2019-12-20 12:39:00    1 days 00:24:00  \n2                   NaT 2020-01-02 18:53:00    0 days 03:43:00  \n3   2020-01-06 11:17:00 2020-01-02 18:05:00    0 days 01:42:00  \n4   2019-12-16 12:45:00 2019-12-15 22:05:00    1 days 22:08:00  \n..                  ...                 ...                ...  \n373 2020-01-06 11:49:00 2020-01-06 11:50:00    0 days 02:24:00  \n374 2019-12-06 10:49:00 2019-12-06 10:51:00    0 days 00:03:00  \n375                 NaT 2019-12-27 16:09:00    0 days 00:50:00  \n376 2019-12-17 10:09:00 2019-12-17 10:27:00    0 days 00:19:00  \n377 2019-12-27 16:35:00 2019-12-27 16:38:00    0 days 00:04:00  \n\n[378 rows x 7 columns]"
     },
     "execution_count": 28,
     "metadata": {},
     "output_type": "execute_result"
    }
   ],
   "source": [
    "#Add column to hold difference between CQ Applied TS and SR Create TS\n",
    "dates_df['CQ and Create Diff'] = (dates_df['CQ Applied TS'] - dates_df['SR Create TS'])\n",
    "dates_df"
   ]
  },
  {
   "cell_type": "code",
   "execution_count": 29,
   "metadata": {},
   "outputs": [],
   "source": [
    "#Get stats for CQ and Create Diff\n",
    "#dates_df.to_csv('Output/difference_df.csv')"
   ]
  },
  {
   "cell_type": "code",
   "execution_count": 31,
   "metadata": {},
   "outputs": [
    {
     "data": {
      "text/plain": "count                       378\nmean     0 days 11:28:51.428571\nstd      2 days 01:12:34.280024\nmin             0 days 00:01:00\n25%             0 days 00:07:00\n50%             0 days 00:35:00\n75%             0 days 11:47:15\nmax            37 days 17:50:00\nName: CQ and Create Diff, dtype: object"
     },
     "execution_count": 31,
     "metadata": {},
     "output_type": "execute_result"
    }
   ],
   "source": [
    "dates_df['CQ and Create Diff'].describe()"
   ]
  },
  {
   "cell_type": "code",
   "execution_count": null,
   "metadata": {},
   "outputs": [],
   "source": []
  }
 ]
}